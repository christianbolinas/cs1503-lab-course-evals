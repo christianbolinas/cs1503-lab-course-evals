{
 "cells": [
  {
   "cell_type": "markdown",
   "metadata": {},
   "source": [
    "# Skill lab: Comparing classifiers\n"
   ]
  },
  {
   "cell_type": "markdown",
   "metadata": {},
   "source": [
    "In this assignment you will apply the statistical tools we learned to a machine learning task of comparing performance of two classifiers.\n",
    "\n",
    "By the end of this lab you will know\n",
    "- How to implement a k-nearest neighbor classifier.\n",
    "- How to perform a k-fold cross validation.\n",
    "- How to find confidence intervals for a classiifer performance based on a sample.\n",
    "- How to statistically compare performance of two classsifiers.\n",
    "\n"
   ]
  },
  {
   "cell_type": "markdown",
   "metadata": {},
   "source": [
    "You need to perform the following seven tasks:\n",
    "1. Compute the accuracy of the Naive Bayes classifier based on the holdout estimation. Next, compute the confidence interval for accuracy at the confidence level 0.90.\n",
    "2. Break the original dataset into 10 folds for cross-validation of Naive Bayes classifier. Obtain classification results from 10 cross-validation experiments.\n",
    "3. Implement the Nearest Neighbors classifier. \n",
    "4. Use it to find the accuracy based on the holdout estimation. Compute the confidence interval at the confidence level 0.90. \n",
    "5. Generate the same 10-folds from a dataset with all numeric attributes and obtain classification results using the k-NN classifer. \n",
    "6. Test the hypothesis that two classifers have a diferent performance at significance level 0.05.\n",
    "7. Use the best classifier to predict the evaluation score of several instructors that you know."
   ]
  },
  {
   "cell_type": "markdown",
   "metadata": {},
   "source": [
    "Feel free to use any programming tools available: pandas, plain python, numpy or anything else. \n",
    "\n",
    "**You are not allowed to use sklearn or any other python library that already includes the implementation of all these tasks**.\n"
   ]
  },
  {
   "cell_type": "markdown",
   "metadata": {},
   "source": [
    "## Dataset"
   ]
  },
  {
   "cell_type": "markdown",
   "metadata": {},
   "source": [
    "The dataset for this lab contains about 460 anonymized student evaluations collected at the University of Texas at Austin, and used in the following publication: \"Beauty in the Classroom: Instructors' Pulchritude and Putative Pedagogical Productivity\". You can learn how the data was collected and the meaning of various data attributes following [THIS LINK](https://chance.amstat.org/2013/04/looking-good/).\n",
    "\n",
    "We use a subset of attributes. This smaller subset of the original data is included in the repository. We want to build a classifier that &mdash; based on these attributes &mdash; will predict the evaluation result for each instructor: good (&ge; 4) or bad (<4). "
   ]
  },
  {
   "cell_type": "code",
   "execution_count": 104,
   "metadata": {},
   "outputs": [],
   "source": [
    "data_file = \"SStudentEvaluations.csv\""
   ]
  },
  {
   "cell_type": "code",
   "execution_count": 105,
   "metadata": {},
   "outputs": [
    {
     "name": "stdout",
     "output_type": "stream",
     "text": [
      "Index(['rank', 'ethnicity', 'gender', 'language', 'age', 'bty_avg',\n",
      "       'eval_categorical'],\n",
      "      dtype='object')\n",
      "rank                 object\n",
      "ethnicity            object\n",
      "gender               object\n",
      "language             object\n",
      "age                   int64\n",
      "bty_avg             float64\n",
      "eval_categorical     object\n",
      "dtype: object\n"
     ]
    }
   ],
   "source": [
    "import pandas as pd\n",
    "\n",
    "data = pd.read_csv(data_file)\n",
    "print(data.columns)\n",
    "print(data.dtypes)"
   ]
  },
  {
   "cell_type": "code",
   "execution_count": 106,
   "metadata": {},
   "outputs": [
    {
     "data": {
      "text/html": [
       "<div>\n",
       "<style scoped>\n",
       "    .dataframe tbody tr th:only-of-type {\n",
       "        vertical-align: middle;\n",
       "    }\n",
       "\n",
       "    .dataframe tbody tr th {\n",
       "        vertical-align: top;\n",
       "    }\n",
       "\n",
       "    .dataframe thead th {\n",
       "        text-align: right;\n",
       "    }\n",
       "</style>\n",
       "<table border=\"1\" class=\"dataframe\">\n",
       "  <thead>\n",
       "    <tr style=\"text-align: right;\">\n",
       "      <th></th>\n",
       "      <th>rank</th>\n",
       "      <th>ethnicity</th>\n",
       "      <th>gender</th>\n",
       "      <th>language</th>\n",
       "      <th>age</th>\n",
       "      <th>bty_avg</th>\n",
       "      <th>eval_categorical</th>\n",
       "    </tr>\n",
       "  </thead>\n",
       "  <tbody>\n",
       "    <tr>\n",
       "      <th>0</th>\n",
       "      <td>tenure track</td>\n",
       "      <td>minority</td>\n",
       "      <td>female</td>\n",
       "      <td>english</td>\n",
       "      <td>36</td>\n",
       "      <td>5.000</td>\n",
       "      <td>good</td>\n",
       "    </tr>\n",
       "    <tr>\n",
       "      <th>1</th>\n",
       "      <td>tenure track</td>\n",
       "      <td>minority</td>\n",
       "      <td>female</td>\n",
       "      <td>english</td>\n",
       "      <td>36</td>\n",
       "      <td>5.000</td>\n",
       "      <td>bad</td>\n",
       "    </tr>\n",
       "    <tr>\n",
       "      <th>2</th>\n",
       "      <td>tenure track</td>\n",
       "      <td>minority</td>\n",
       "      <td>female</td>\n",
       "      <td>english</td>\n",
       "      <td>36</td>\n",
       "      <td>5.000</td>\n",
       "      <td>bad</td>\n",
       "    </tr>\n",
       "    <tr>\n",
       "      <th>3</th>\n",
       "      <td>tenure track</td>\n",
       "      <td>minority</td>\n",
       "      <td>female</td>\n",
       "      <td>english</td>\n",
       "      <td>36</td>\n",
       "      <td>5.000</td>\n",
       "      <td>good</td>\n",
       "    </tr>\n",
       "    <tr>\n",
       "      <th>4</th>\n",
       "      <td>tenured</td>\n",
       "      <td>not minority</td>\n",
       "      <td>male</td>\n",
       "      <td>english</td>\n",
       "      <td>59</td>\n",
       "      <td>3.000</td>\n",
       "      <td>good</td>\n",
       "    </tr>\n",
       "    <tr>\n",
       "      <th>...</th>\n",
       "      <td>...</td>\n",
       "      <td>...</td>\n",
       "      <td>...</td>\n",
       "      <td>...</td>\n",
       "      <td>...</td>\n",
       "      <td>...</td>\n",
       "      <td>...</td>\n",
       "    </tr>\n",
       "    <tr>\n",
       "      <th>458</th>\n",
       "      <td>tenure track</td>\n",
       "      <td>not minority</td>\n",
       "      <td>male</td>\n",
       "      <td>english</td>\n",
       "      <td>32</td>\n",
       "      <td>6.833</td>\n",
       "      <td>good</td>\n",
       "    </tr>\n",
       "    <tr>\n",
       "      <th>459</th>\n",
       "      <td>tenure track</td>\n",
       "      <td>minority</td>\n",
       "      <td>female</td>\n",
       "      <td>non-english</td>\n",
       "      <td>42</td>\n",
       "      <td>5.333</td>\n",
       "      <td>bad</td>\n",
       "    </tr>\n",
       "    <tr>\n",
       "      <th>460</th>\n",
       "      <td>tenure track</td>\n",
       "      <td>minority</td>\n",
       "      <td>female</td>\n",
       "      <td>non-english</td>\n",
       "      <td>42</td>\n",
       "      <td>5.333</td>\n",
       "      <td>bad</td>\n",
       "    </tr>\n",
       "    <tr>\n",
       "      <th>461</th>\n",
       "      <td>tenure track</td>\n",
       "      <td>minority</td>\n",
       "      <td>female</td>\n",
       "      <td>non-english</td>\n",
       "      <td>42</td>\n",
       "      <td>5.333</td>\n",
       "      <td>bad</td>\n",
       "    </tr>\n",
       "    <tr>\n",
       "      <th>462</th>\n",
       "      <td>tenure track</td>\n",
       "      <td>minority</td>\n",
       "      <td>female</td>\n",
       "      <td>non-english</td>\n",
       "      <td>42</td>\n",
       "      <td>5.333</td>\n",
       "      <td>good</td>\n",
       "    </tr>\n",
       "  </tbody>\n",
       "</table>\n",
       "<p>463 rows × 7 columns</p>\n",
       "</div>"
      ],
      "text/plain": [
       "             rank     ethnicity  gender     language  age  bty_avg  \\\n",
       "0    tenure track      minority  female      english   36    5.000   \n",
       "1    tenure track      minority  female      english   36    5.000   \n",
       "2    tenure track      minority  female      english   36    5.000   \n",
       "3    tenure track      minority  female      english   36    5.000   \n",
       "4         tenured  not minority    male      english   59    3.000   \n",
       "..            ...           ...     ...          ...  ...      ...   \n",
       "458  tenure track  not minority    male      english   32    6.833   \n",
       "459  tenure track      minority  female  non-english   42    5.333   \n",
       "460  tenure track      minority  female  non-english   42    5.333   \n",
       "461  tenure track      minority  female  non-english   42    5.333   \n",
       "462  tenure track      minority  female  non-english   42    5.333   \n",
       "\n",
       "    eval_categorical  \n",
       "0               good  \n",
       "1                bad  \n",
       "2                bad  \n",
       "3               good  \n",
       "4               good  \n",
       "..               ...  \n",
       "458             good  \n",
       "459              bad  \n",
       "460              bad  \n",
       "461              bad  \n",
       "462             good  \n",
       "\n",
       "[463 rows x 7 columns]"
      ]
     },
     "metadata": {},
     "output_type": "display_data"
    }
   ],
   "source": [
    "display(data)"
   ]
  },
  {
   "cell_type": "markdown",
   "metadata": {},
   "source": [
    "First of all, we will shuffle the data. We use a seeded randomization &mdash; so we can obtain reproducible results (needed for testing of your work)."
   ]
  },
  {
   "cell_type": "code",
   "execution_count": 107,
   "metadata": {},
   "outputs": [
    {
     "data": {
      "text/html": [
       "<div>\n",
       "<style scoped>\n",
       "    .dataframe tbody tr th:only-of-type {\n",
       "        vertical-align: middle;\n",
       "    }\n",
       "\n",
       "    .dataframe tbody tr th {\n",
       "        vertical-align: top;\n",
       "    }\n",
       "\n",
       "    .dataframe thead th {\n",
       "        text-align: right;\n",
       "    }\n",
       "</style>\n",
       "<table border=\"1\" class=\"dataframe\">\n",
       "  <thead>\n",
       "    <tr style=\"text-align: right;\">\n",
       "      <th></th>\n",
       "      <th>rank</th>\n",
       "      <th>ethnicity</th>\n",
       "      <th>gender</th>\n",
       "      <th>language</th>\n",
       "      <th>age</th>\n",
       "      <th>bty_avg</th>\n",
       "      <th>eval_categorical</th>\n",
       "    </tr>\n",
       "  </thead>\n",
       "  <tbody>\n",
       "    <tr>\n",
       "      <th>331</th>\n",
       "      <td>tenured</td>\n",
       "      <td>not minority</td>\n",
       "      <td>male</td>\n",
       "      <td>english</td>\n",
       "      <td>64</td>\n",
       "      <td>2.333</td>\n",
       "      <td>bad</td>\n",
       "    </tr>\n",
       "    <tr>\n",
       "      <th>101</th>\n",
       "      <td>tenured</td>\n",
       "      <td>not minority</td>\n",
       "      <td>female</td>\n",
       "      <td>english</td>\n",
       "      <td>46</td>\n",
       "      <td>4.333</td>\n",
       "      <td>good</td>\n",
       "    </tr>\n",
       "    <tr>\n",
       "      <th>192</th>\n",
       "      <td>tenured</td>\n",
       "      <td>not minority</td>\n",
       "      <td>male</td>\n",
       "      <td>english</td>\n",
       "      <td>54</td>\n",
       "      <td>2.333</td>\n",
       "      <td>good</td>\n",
       "    </tr>\n",
       "    <tr>\n",
       "      <th>66</th>\n",
       "      <td>teaching</td>\n",
       "      <td>not minority</td>\n",
       "      <td>male</td>\n",
       "      <td>english</td>\n",
       "      <td>37</td>\n",
       "      <td>4.333</td>\n",
       "      <td>bad</td>\n",
       "    </tr>\n",
       "    <tr>\n",
       "      <th>327</th>\n",
       "      <td>tenured</td>\n",
       "      <td>not minority</td>\n",
       "      <td>male</td>\n",
       "      <td>english</td>\n",
       "      <td>64</td>\n",
       "      <td>2.333</td>\n",
       "      <td>bad</td>\n",
       "    </tr>\n",
       "  </tbody>\n",
       "</table>\n",
       "</div>"
      ],
      "text/plain": [
       "         rank     ethnicity  gender language  age  bty_avg eval_categorical\n",
       "331   tenured  not minority    male  english   64    2.333              bad\n",
       "101   tenured  not minority  female  english   46    4.333             good\n",
       "192   tenured  not minority    male  english   54    2.333             good\n",
       "66   teaching  not minority    male  english   37    4.333              bad\n",
       "327   tenured  not minority    male  english   64    2.333              bad"
      ]
     },
     "execution_count": 107,
     "metadata": {},
     "output_type": "execute_result"
    }
   ],
   "source": [
    "data = data.sample(frac = 1, random_state=1)    # shuffling the data before performing any validation\n",
    "data.head()"
   ]
  },
  {
   "cell_type": "markdown",
   "metadata": {},
   "source": [
    "### Holdout estimation\n",
    "That is how we can divide the dataset into training and testing sets in proportion of ~ 2:1:"
   ]
  },
  {
   "cell_type": "code",
   "execution_count": 108,
   "metadata": {},
   "outputs": [],
   "source": [
    "# Select ratio\n",
    "ratio = 0.66\n",
    " \n",
    "total_rows = data.shape[0]\n",
    "train_size = int(total_rows*ratio)\n",
    " \n",
    "# Split data into test and train\n",
    "data_train = data[0:train_size]\n",
    "data_test = data[train_size:]"
   ]
  },
  {
   "cell_type": "code",
   "execution_count": 109,
   "metadata": {},
   "outputs": [
    {
     "data": {
      "text/plain": [
       "305"
      ]
     },
     "execution_count": 109,
     "metadata": {},
     "output_type": "execute_result"
    }
   ],
   "source": [
    "data_train.shape[0]"
   ]
  },
  {
   "cell_type": "code",
   "execution_count": 110,
   "metadata": {},
   "outputs": [
    {
     "data": {
      "text/plain": [
       "158"
      ]
     },
     "execution_count": 110,
     "metadata": {},
     "output_type": "execute_result"
    }
   ],
   "source": [
    "data_test.shape[0]"
   ]
  },
  {
   "cell_type": "markdown",
   "metadata": {},
   "source": [
    "## Naive Bayes classifier"
   ]
  },
  {
   "cell_type": "markdown",
   "metadata": {},
   "source": [
    "Below we provide our implementation of the first classifier: Naive Bayes.\n",
    "\n",
    "We have a mix of cathegorical and numeric attributes. We will produce counts and probabilities for cathegorical attributes. We will also precompute the mean and standard deviation for the numeric attributes which we will later use with the normal distribution probability density function (PDF) to compute the contribution of numeric attributes. "
   ]
  },
  {
   "cell_type": "markdown",
   "metadata": {},
   "source": [
    "Here is an implementation of the PDF:"
   ]
  },
  {
   "cell_type": "code",
   "execution_count": 111,
   "metadata": {},
   "outputs": [],
   "source": [
    "from math import *\n",
    "\n",
    "def normal_pdf(x, stat):\n",
    "    \"\"\"\n",
    "    :param x: a variable\n",
    "    :param mean: µ - the expected value or average from M samples\n",
    "    :param stdev: σ - standard deviation\n",
    "    :return: Gaussian (Normal) Density function.\n",
    "    N(x; µ, σ) = (1 / 2πσ) * (e ^ (x–µ)^2/-2σ^2\n",
    "    \"\"\"\n",
    "    mean, stdev = stat\n",
    "    variance = stdev ** 2\n",
    "    exp_squared_diff = (x - mean) ** 2\n",
    "    exp_power = -exp_squared_diff / (2 * variance)\n",
    "    exponent = e ** exp_power\n",
    "    denominator = ((2 * pi) ** .5) * stdev\n",
    "    normal_prob = exponent / denominator\n",
    "    return normal_prob"
   ]
  },
  {
   "cell_type": "markdown",
   "metadata": {},
   "source": [
    "Here is our counting function:"
   ]
  },
  {
   "cell_type": "code",
   "execution_count": 112,
   "metadata": {},
   "outputs": [],
   "source": [
    "def produce_counts (train_set, column, results):\n",
    "    # counter = 5\n",
    "    col_idx = col_name_to_col_idx [column]\n",
    "    for tup in train_set.itertuples():\n",
    "        val = tup[col_idx]\n",
    "        class_label = tup[7]\n",
    "        prev = results [class_label][column]\n",
    "\n",
    "        if val not in prev.keys():\n",
    "            prev[val] = 0\n",
    "        prev[val] += 1    "
   ]
  },
  {
   "cell_type": "markdown",
   "metadata": {},
   "source": [
    "Based on these counts, we can pre-compute conditional probabilities for all combinations of cathegorical attributes and class labels:"
   ]
  },
  {
   "cell_type": "code",
   "execution_count": 113,
   "metadata": {},
   "outputs": [],
   "source": [
    "def produce_probabilities(counts, results, class_label, total):\n",
    "    for col in counts[class_label].keys():\n",
    "        results[class_label][col] = {} \n",
    "        cardinality = len(counts[class_label][col].keys())\n",
    "        \n",
    "        for val in counts[class_label][col].keys():\n",
    "            results[class_label][col][val] = (counts[class_label][col][val] + 1)/(total + cardinality)      \n",
    "                "
   ]
  },
  {
   "cell_type": "markdown",
   "metadata": {},
   "source": [
    "The classification algorithm that classifies all the records in the *test_set*, based on the data in the *train_set*. \n",
    "\n",
    "The output is the list of classification results in form of a tuple (*classified*, *actual*), where *classified* is a class label obtained by our classification, and *actual* is the actual label of this record in the test set."
   ]
  },
  {
   "cell_type": "code",
   "execution_count": 117,
   "metadata": {},
   "outputs": [],
   "source": [
    "col_name_to_col_idx = {\"rank\":1, \"ethnicity\":2, \"gender\":3, \"language\":4 }\n",
    "idx_to_col_name = {1:\"rank\", 2: \"ethnicity\", 3: \"gender\", 4: \"language\"}\n",
    "\n",
    "def naive_bayes_classify (train_set, test_set):  \n",
    "    counts = {\"good\": {\"rank\":{}, \"ethnicity\":{}, \"gender\":{}, \"language\":{}}, \"bad\":{\"rank\":{}, \"ethnicity\":{}, \"gender\":{}, \"language\":{}} }   \n",
    "\n",
    "    total_good  = train_set.groupby(\"eval_categorical\").size()[\"good\"]\n",
    "    total_bad = train_set.groupby(\"eval_categorical\").size()[\"bad\"]\n",
    "    priors = {\"good\":total_good/(total_good+total_bad), \"bad\":total_bad/(total_good+total_bad) }\n",
    "\n",
    "    for col in col_name_to_col_idx.keys():\n",
    "        produce_counts(train_set, col, counts)   \n",
    "    # print(counts)\n",
    "    \n",
    "    probs = {\"good\":{}, \"bad\":{}}\n",
    "    produce_probabilities (counts,  probs, \"good\", total_good)\n",
    "    produce_probabilities (counts,  probs, \"bad\", total_bad)\n",
    "    # print(probs)\n",
    "\n",
    "    # means and std for normal distribution of numeric parameters\n",
    "    data_good = train_set[train_set[\"eval_categorical\"]== \"good\"]\n",
    "    data_bad = train_set[train_set[\"eval_categorical\"]== \"bad\"]\n",
    "\n",
    "    stats = {\"good\":{\"age\":(data_good[\"age\"].mean(), data_good[\"age\"].std(ddof=1)), \n",
    "                 \"bty_avg\":(data_good[\"bty_avg\"].mean(), data_good[\"bty_avg\"].std(ddof=1)) },\n",
    "        \"bad\":{\"age\":(data_bad[\"age\"].mean(), data_bad[\"age\"].std(ddof=1)), \n",
    "                 \"bty_avg\":(data_bad[\"bty_avg\"].mean(), data_bad[\"bty_avg\"].std(ddof=1)) }}\n",
    "    #print(stats)\n",
    "    \n",
    "    results = []\n",
    "    for tup in test_set.itertuples():\n",
    "        class_label = tup[7]\n",
    "        prob_good = log (priors[\"good\"]) \n",
    "        for k in col_name_to_col_idx.keys():\n",
    "            prob_good += log (probs[\"good\"][k][tup[col_name_to_col_idx[k]]]) \n",
    "        prob_good += normal_pdf(tup[5], stats[\"good\"][\"age\"])\n",
    "        prob_good += normal_pdf(tup[6], stats[\"good\"][\"bty_avg\"])\n",
    "        # print (\"good:\", prob_good)\n",
    "\n",
    "        prob_bad = log (priors[\"bad\"]) \n",
    "        for k in col_name_to_col_idx.keys():\n",
    "            prob_bad += log (probs[\"bad\"][k][tup[col_name_to_col_idx[k]]]) \n",
    "        prob_bad += normal_pdf(tup[5], stats[\"bad\"][\"age\"])\n",
    "        prob_bad += normal_pdf(tup[6], stats[\"bad\"][\"bty_avg\"])\n",
    "        # print (\"bad:\", prob_bad)\n",
    "\n",
    "        classified_as = \"good\"\n",
    "        if prob_bad > prob_good:\n",
    "            classified_as = \"bad\"\n",
    "        \n",
    "        results += [(classified_as, class_label )]    \n",
    "    return results"
   ]
  },
  {
   "cell_type": "markdown",
   "metadata": {},
   "source": [
    "Let's run the classifier using the training and testing parts we obtained in the holdout section."
   ]
  },
  {
   "cell_type": "code",
   "execution_count": 118,
   "metadata": {},
   "outputs": [
    {
     "name": "stdout",
     "output_type": "stream",
     "text": [
      "[('good', 'good'), ('good', 'good'), ('good', 'bad'), ('good', 'good'), ('bad', 'good')]\n",
      "Accuracy: 0.569620253164557\n"
     ]
    }
   ],
   "source": [
    "class_results = naive_bayes_classify(data_train, data_test)\n",
    "print(class_results[:5])\n",
    "\n",
    "correct_count = 0\n",
    "for r in range(len(class_results)):\n",
    "    if class_results[r][0] == class_results[r][1]:\n",
    "        correct_count+= 1\n",
    "print (\"Accuracy:\", correct_count/len(class_results))"
   ]
  },
  {
   "cell_type": "markdown",
   "metadata": {},
   "source": [
    "<div style=\"background-color:blue;\">\n",
    "    <h3>Task 1. Generate confidence interval for accuracy of the Naive Bayes</h3>    \n",
    "</div>\n",
    "You can write the code, or use the tables manually."
   ]
  },
  {
   "cell_type": "markdown",
   "metadata": {},
   "source": [
    "**Work**: \n",
    "\n",
    "We are using a 90% confidence interval of the form\n",
    "\n",
    "$$ CI = sample statistic \\pm critical value * SE $$\n",
    "\n",
    " Our sample statistic is **0.5696** for the classifier's performance on the test set, which had 158 data points. Given that the test set's size is greater than 30, we will be using a normal (as opposed to t) distribution. For a 90% confidence interval on the normal distribution, the critical value is &plusmn;1.65. Lastly, since the classifier's outcome is binary yes/no, we will **approximate** its accuracy by **assuming** said accuracy follows a binomial distribution. ***TA Joey said this is acceptable.*** The standard error of that binomial distribution is \n",
    " \n",
    " $$\\sqrt{\\frac{\\hat{p}(1-\\hat{p})}{n}} = .0394 $$\n",
    "\n",
    "\n",
    "which all evaluates to \n",
    "\n",
    "$$ .5696 \\pm (1.65 * .0394) $$\n",
    "\n",
    "\n",
    "**Answer**: \n",
    "\n",
    "The confidence interval for the performance of the Naive Bayes classifier is:\n",
    "\n",
    "$$[.5046, .6346]$$"
   ]
  },
  {
   "cell_type": "markdown",
   "metadata": {},
   "source": [
    "### Cross-validation"
   ]
  },
  {
   "cell_type": "markdown",
   "metadata": {},
   "source": [
    "We want to test the performance of two classifiers on different datasets &mdash; to get the mean of the paired difference. To create several traning/testing subsets we will use 10-fold cross-validation: we will divide our original dataset into 10 approximately equal parts (folds) and use 9 out of 10 folds for training and 1 fold for testing. Hence, the total number of performance experiments will be 10."
   ]
  },
  {
   "cell_type": "markdown",
   "metadata": {},
   "source": [
    "<div style=\"background-color:blue;\">\n",
    "    <h3>Task 2. Perform the 10-fold cross-validation with Naive Bayes</h3>    \n",
    "</div>"
   ]
  },
  {
   "cell_type": "markdown",
   "metadata": {},
   "source": [
    "Generate 10 equal non-overlapping subsets of data and store them in the list of pandas data frames called *folds*:\n",
    "\n",
    "We have 462 points that we have to try to equally distribute into 10 folds. 462 % 10 = 2, so that means we'll have eight folds with 46 points and two with 47. Each fold will be its separate dataframe. "
   ]
  },
  {
   "cell_type": "code",
   "execution_count": 119,
   "metadata": {},
   "outputs": [],
   "source": [
    "import numpy as np"
   ]
  },
  {
   "cell_type": "code",
   "execution_count": 120,
   "metadata": {},
   "outputs": [
    {
     "name": "stdout",
     "output_type": "stream",
     "text": [
      "Fold 0 size: 46\n",
      "Fold 1 size: 46\n",
      "Fold 2 size: 46\n",
      "Fold 3 size: 46\n",
      "Fold 4 size: 46\n",
      "Fold 5 size: 46\n",
      "Fold 6 size: 46\n",
      "Fold 7 size: 46\n",
      "Fold 8 size: 46\n",
      "Fold 9 size: 46\n"
     ]
    }
   ],
   "source": [
    "k = 10\n",
    "folds = []\n",
    "\n",
    "# TODO - your code\n",
    "# generating a np arr of indices to separate data by\n",
    "split_bounds = np.linspace(0, 462, k + 1, dtype=int)\n",
    "# that yields [0,46,92,138,184,231,277,323,369,415]\n",
    "# list[10] of tuples indicating start row and end row for each slice:\n",
    "row_bounds = [(0,46), (47,93), (92,138), (138,184), (184,230), (230, 276), (276,322), (323,369), (368,414), (414,460)]\n",
    "\n",
    "\n",
    "\n",
    "for i in row_bounds:\n",
    "    start_idx = i[0]\n",
    "    end_idx = i[1]\n",
    "    fold = data.iloc[start_idx:end_idx]\n",
    "    folds.append(fold)\n",
    "\n",
    "for i in range(k):\n",
    "    print(\"Fold\", i, \"size:\", folds[i].shape[0])"
   ]
  },
  {
   "cell_type": "markdown",
   "metadata": {},
   "source": [
    "Implement the loop where you obtain classification results for each of the folds. Store these results in the list *nb_accuracies* for future use."
   ]
  },
  {
   "cell_type": "code",
   "execution_count": 121,
   "metadata": {},
   "outputs": [
    {
     "name": "stdout",
     "output_type": "stream",
     "text": [
      "[0.5652173913043478, 0.4782608695652174, 0.5217391304347826, 0.5652173913043478, 0.5217391304347826, 0.6956521739130435, 0.5434782608695652, 0.6086956521739131, 0.5434782608695652, 0.5]\n"
     ]
    }
   ],
   "source": [
    "nb_accuracies = []\n",
    "# TODO: your code here\n",
    "# I have slices of each fold's start and end in row_bounds. Instead of merging all items in folds besides the test set's index and training the classifier on those, \n",
    "# I'm going to instead just make a new df with the start and end bounds of each test set *set subtracted* from it via my list of the bounds of the *test set*; \n",
    "# i'm going to train on the entire data on that entire test set-less dataset and then test on the test set\n",
    "\n",
    "for tup in row_bounds:\n",
    "    test_low_bound = tup[0]\n",
    "    test_high_bound = tup[1]\n",
    "\n",
    "    test_set = data.iloc[test_low_bound:test_high_bound]\n",
    "    training_set = data.drop(data.index[test_low_bound:test_high_bound])\n",
    "\n",
    "    trial_results = naive_bayes_classify(training_set, test_set)\n",
    "\n",
    "    trial_correct_count = 0\n",
    "    for r in trial_results:\n",
    "        if r[0] == r[1]:\n",
    "            trial_correct_count += 1\n",
    "    \n",
    "    trial_accuracy = trial_correct_count / len(trial_results)\n",
    "    nb_accuracies.append(trial_accuracy)\n",
    "        \n",
    "\n",
    "print(nb_accuracies)"
   ]
  },
  {
   "cell_type": "markdown",
   "metadata": {},
   "source": [
    "For comparison &mdash; here are our results: 0.5652173913043478, 0.4782608695652174, 0.5217391304347826, 0.5652173913043478, \n",
    "    0.5217391304347826, 0.6956521739130435, 0.5434782608695652, 0.6086956521739131, 0.5434782608695652, 0.5"
   ]
  },
  {
   "cell_type": "markdown",
   "metadata": {},
   "source": [
    "## Nearest Neighbors classifier (k-NN)"
   ]
  },
  {
   "cell_type": "markdown",
   "metadata": {},
   "source": [
    "This classifier assigns a class to a given record based on the class labels of *k* labeled records that are closest to it. The closest samples are selected based on a distance metric, then the neighbors vote and the majority class is assigned to a record in question.\n",
    "\n",
    "The value of *k* indicates the number of closest neighbors used to classify the test record. The value of *k* is non-parametric and a general rule of thumb in choosing the initial value of k is: k = sqrt(N)/2, where N stands for the number of samples in the training dataset. Another hint is to keep the value of k odd, so that there is no tie when choosing between two classes.\n",
    "\n",
    "For our dataset the size of the training set will be about 9 * 46 = 414, and sqrt(414)/2 is ~ 11. We will use k=11 nearest neighbors for our classification."
   ]
  },
  {
   "cell_type": "markdown",
   "metadata": {},
   "source": [
    "### Categorical to numeric (binary)\n",
    "To use distance metrics we must convert the categorical attributes to numeric. The most common method is to convert a categorical attribute into a set of binary attributes, such that for each categorical value there is a separate column, and the value in this column is either 0 or 1. This is called a \"one hot encoding\".\n",
    "\n",
    "One hot encoding for categorical columns:"
   ]
  },
  {
   "cell_type": "code",
   "execution_count": 122,
   "metadata": {},
   "outputs": [
    {
     "data": {
      "text/html": [
       "<div>\n",
       "<style scoped>\n",
       "    .dataframe tbody tr th:only-of-type {\n",
       "        vertical-align: middle;\n",
       "    }\n",
       "\n",
       "    .dataframe tbody tr th {\n",
       "        vertical-align: top;\n",
       "    }\n",
       "\n",
       "    .dataframe thead th {\n",
       "        text-align: right;\n",
       "    }\n",
       "</style>\n",
       "<table border=\"1\" class=\"dataframe\">\n",
       "  <thead>\n",
       "    <tr style=\"text-align: right;\">\n",
       "      <th></th>\n",
       "      <th>teaching</th>\n",
       "      <th>tenure track</th>\n",
       "      <th>tenured</th>\n",
       "      <th>rank</th>\n",
       "    </tr>\n",
       "  </thead>\n",
       "  <tbody>\n",
       "    <tr>\n",
       "      <th>331</th>\n",
       "      <td>0</td>\n",
       "      <td>0</td>\n",
       "      <td>1</td>\n",
       "      <td>tenured</td>\n",
       "    </tr>\n",
       "    <tr>\n",
       "      <th>101</th>\n",
       "      <td>0</td>\n",
       "      <td>0</td>\n",
       "      <td>1</td>\n",
       "      <td>tenured</td>\n",
       "    </tr>\n",
       "    <tr>\n",
       "      <th>192</th>\n",
       "      <td>0</td>\n",
       "      <td>0</td>\n",
       "      <td>1</td>\n",
       "      <td>tenured</td>\n",
       "    </tr>\n",
       "    <tr>\n",
       "      <th>66</th>\n",
       "      <td>1</td>\n",
       "      <td>0</td>\n",
       "      <td>0</td>\n",
       "      <td>teaching</td>\n",
       "    </tr>\n",
       "    <tr>\n",
       "      <th>327</th>\n",
       "      <td>0</td>\n",
       "      <td>0</td>\n",
       "      <td>1</td>\n",
       "      <td>tenured</td>\n",
       "    </tr>\n",
       "  </tbody>\n",
       "</table>\n",
       "</div>"
      ],
      "text/plain": [
       "     teaching  tenure track  tenured      rank\n",
       "331         0             0        1   tenured\n",
       "101         0             0        1   tenured\n",
       "192         0             0        1   tenured\n",
       "66          1             0        0  teaching\n",
       "327         0             0        1   tenured"
      ]
     },
     "execution_count": 122,
     "metadata": {},
     "output_type": "execute_result"
    }
   ],
   "source": [
    "ohe_rank = pd.get_dummies(data[\"rank\"], dtype=int)\n",
    "pd.concat([ohe_rank, data[\"rank\"]], axis=1, sort=False).head()"
   ]
  },
  {
   "cell_type": "code",
   "execution_count": 123,
   "metadata": {},
   "outputs": [
    {
     "data": {
      "text/html": [
       "<div>\n",
       "<style scoped>\n",
       "    .dataframe tbody tr th:only-of-type {\n",
       "        vertical-align: middle;\n",
       "    }\n",
       "\n",
       "    .dataframe tbody tr th {\n",
       "        vertical-align: top;\n",
       "    }\n",
       "\n",
       "    .dataframe thead th {\n",
       "        text-align: right;\n",
       "    }\n",
       "</style>\n",
       "<table border=\"1\" class=\"dataframe\">\n",
       "  <thead>\n",
       "    <tr style=\"text-align: right;\">\n",
       "      <th></th>\n",
       "      <th>minority</th>\n",
       "      <th>not minority</th>\n",
       "      <th>ethnicity</th>\n",
       "    </tr>\n",
       "  </thead>\n",
       "  <tbody>\n",
       "    <tr>\n",
       "      <th>331</th>\n",
       "      <td>0</td>\n",
       "      <td>1</td>\n",
       "      <td>not minority</td>\n",
       "    </tr>\n",
       "    <tr>\n",
       "      <th>101</th>\n",
       "      <td>0</td>\n",
       "      <td>1</td>\n",
       "      <td>not minority</td>\n",
       "    </tr>\n",
       "    <tr>\n",
       "      <th>192</th>\n",
       "      <td>0</td>\n",
       "      <td>1</td>\n",
       "      <td>not minority</td>\n",
       "    </tr>\n",
       "    <tr>\n",
       "      <th>66</th>\n",
       "      <td>0</td>\n",
       "      <td>1</td>\n",
       "      <td>not minority</td>\n",
       "    </tr>\n",
       "    <tr>\n",
       "      <th>327</th>\n",
       "      <td>0</td>\n",
       "      <td>1</td>\n",
       "      <td>not minority</td>\n",
       "    </tr>\n",
       "  </tbody>\n",
       "</table>\n",
       "</div>"
      ],
      "text/plain": [
       "     minority  not minority     ethnicity\n",
       "331         0             1  not minority\n",
       "101         0             1  not minority\n",
       "192         0             1  not minority\n",
       "66          0             1  not minority\n",
       "327         0             1  not minority"
      ]
     },
     "execution_count": 123,
     "metadata": {},
     "output_type": "execute_result"
    }
   ],
   "source": [
    "ohe_ethnicity = pd.get_dummies(data[\"ethnicity\"], dtype=int)\n",
    "pd.concat([ohe_ethnicity, data[\"ethnicity\"]], axis=1, sort=False).head()"
   ]
  },
  {
   "cell_type": "code",
   "execution_count": 124,
   "metadata": {},
   "outputs": [
    {
     "data": {
      "text/html": [
       "<div>\n",
       "<style scoped>\n",
       "    .dataframe tbody tr th:only-of-type {\n",
       "        vertical-align: middle;\n",
       "    }\n",
       "\n",
       "    .dataframe tbody tr th {\n",
       "        vertical-align: top;\n",
       "    }\n",
       "\n",
       "    .dataframe thead th {\n",
       "        text-align: right;\n",
       "    }\n",
       "</style>\n",
       "<table border=\"1\" class=\"dataframe\">\n",
       "  <thead>\n",
       "    <tr style=\"text-align: right;\">\n",
       "      <th></th>\n",
       "      <th>female</th>\n",
       "      <th>male</th>\n",
       "      <th>gender</th>\n",
       "    </tr>\n",
       "  </thead>\n",
       "  <tbody>\n",
       "    <tr>\n",
       "      <th>331</th>\n",
       "      <td>0</td>\n",
       "      <td>1</td>\n",
       "      <td>male</td>\n",
       "    </tr>\n",
       "    <tr>\n",
       "      <th>101</th>\n",
       "      <td>1</td>\n",
       "      <td>0</td>\n",
       "      <td>female</td>\n",
       "    </tr>\n",
       "    <tr>\n",
       "      <th>192</th>\n",
       "      <td>0</td>\n",
       "      <td>1</td>\n",
       "      <td>male</td>\n",
       "    </tr>\n",
       "    <tr>\n",
       "      <th>66</th>\n",
       "      <td>0</td>\n",
       "      <td>1</td>\n",
       "      <td>male</td>\n",
       "    </tr>\n",
       "    <tr>\n",
       "      <th>327</th>\n",
       "      <td>0</td>\n",
       "      <td>1</td>\n",
       "      <td>male</td>\n",
       "    </tr>\n",
       "  </tbody>\n",
       "</table>\n",
       "</div>"
      ],
      "text/plain": [
       "     female  male  gender\n",
       "331       0     1    male\n",
       "101       1     0  female\n",
       "192       0     1    male\n",
       "66        0     1    male\n",
       "327       0     1    male"
      ]
     },
     "execution_count": 124,
     "metadata": {},
     "output_type": "execute_result"
    }
   ],
   "source": [
    "ohe_gender = pd.get_dummies(data[\"gender\"], dtype=int)\n",
    "pd.concat([ohe_gender, data[\"gender\"]], axis=1, sort=False).head()"
   ]
  },
  {
   "cell_type": "code",
   "execution_count": 125,
   "metadata": {},
   "outputs": [
    {
     "data": {
      "text/html": [
       "<div>\n",
       "<style scoped>\n",
       "    .dataframe tbody tr th:only-of-type {\n",
       "        vertical-align: middle;\n",
       "    }\n",
       "\n",
       "    .dataframe tbody tr th {\n",
       "        vertical-align: top;\n",
       "    }\n",
       "\n",
       "    .dataframe thead th {\n",
       "        text-align: right;\n",
       "    }\n",
       "</style>\n",
       "<table border=\"1\" class=\"dataframe\">\n",
       "  <thead>\n",
       "    <tr style=\"text-align: right;\">\n",
       "      <th></th>\n",
       "      <th>english</th>\n",
       "      <th>non-english</th>\n",
       "      <th>language</th>\n",
       "    </tr>\n",
       "  </thead>\n",
       "  <tbody>\n",
       "    <tr>\n",
       "      <th>331</th>\n",
       "      <td>1</td>\n",
       "      <td>0</td>\n",
       "      <td>english</td>\n",
       "    </tr>\n",
       "    <tr>\n",
       "      <th>101</th>\n",
       "      <td>1</td>\n",
       "      <td>0</td>\n",
       "      <td>english</td>\n",
       "    </tr>\n",
       "    <tr>\n",
       "      <th>192</th>\n",
       "      <td>1</td>\n",
       "      <td>0</td>\n",
       "      <td>english</td>\n",
       "    </tr>\n",
       "    <tr>\n",
       "      <th>66</th>\n",
       "      <td>1</td>\n",
       "      <td>0</td>\n",
       "      <td>english</td>\n",
       "    </tr>\n",
       "    <tr>\n",
       "      <th>327</th>\n",
       "      <td>1</td>\n",
       "      <td>0</td>\n",
       "      <td>english</td>\n",
       "    </tr>\n",
       "  </tbody>\n",
       "</table>\n",
       "</div>"
      ],
      "text/plain": [
       "     english  non-english language\n",
       "331        1            0  english\n",
       "101        1            0  english\n",
       "192        1            0  english\n",
       "66         1            0  english\n",
       "327        1            0  english"
      ]
     },
     "execution_count": 125,
     "metadata": {},
     "output_type": "execute_result"
    }
   ],
   "source": [
    "ohe_language = pd.get_dummies(data[\"language\"], dtype=int)\n",
    "pd.concat([ohe_language, data[\"language\"]], axis=1, sort=False).head()"
   ]
  },
  {
   "cell_type": "markdown",
   "metadata": {},
   "source": [
    "Now we create a dataset where all the cathegorical attributes are replaced by the binary columns. This dataset is called *num_data* and it will be used in the k-NN classification."
   ]
  },
  {
   "cell_type": "code",
   "execution_count": 126,
   "metadata": {},
   "outputs": [
    {
     "data": {
      "text/html": [
       "<div>\n",
       "<style scoped>\n",
       "    .dataframe tbody tr th:only-of-type {\n",
       "        vertical-align: middle;\n",
       "    }\n",
       "\n",
       "    .dataframe tbody tr th {\n",
       "        vertical-align: top;\n",
       "    }\n",
       "\n",
       "    .dataframe thead th {\n",
       "        text-align: right;\n",
       "    }\n",
       "</style>\n",
       "<table border=\"1\" class=\"dataframe\">\n",
       "  <thead>\n",
       "    <tr style=\"text-align: right;\">\n",
       "      <th></th>\n",
       "      <th>teaching</th>\n",
       "      <th>tenure track</th>\n",
       "      <th>tenured</th>\n",
       "      <th>minority</th>\n",
       "      <th>not minority</th>\n",
       "      <th>female</th>\n",
       "      <th>male</th>\n",
       "      <th>english</th>\n",
       "      <th>non-english</th>\n",
       "      <th>age</th>\n",
       "      <th>bty_avg</th>\n",
       "      <th>eval_categorical</th>\n",
       "    </tr>\n",
       "  </thead>\n",
       "  <tbody>\n",
       "    <tr>\n",
       "      <th>331</th>\n",
       "      <td>0</td>\n",
       "      <td>0</td>\n",
       "      <td>1</td>\n",
       "      <td>0</td>\n",
       "      <td>1</td>\n",
       "      <td>0</td>\n",
       "      <td>1</td>\n",
       "      <td>1</td>\n",
       "      <td>0</td>\n",
       "      <td>64</td>\n",
       "      <td>2.333</td>\n",
       "      <td>bad</td>\n",
       "    </tr>\n",
       "    <tr>\n",
       "      <th>101</th>\n",
       "      <td>0</td>\n",
       "      <td>0</td>\n",
       "      <td>1</td>\n",
       "      <td>0</td>\n",
       "      <td>1</td>\n",
       "      <td>1</td>\n",
       "      <td>0</td>\n",
       "      <td>1</td>\n",
       "      <td>0</td>\n",
       "      <td>46</td>\n",
       "      <td>4.333</td>\n",
       "      <td>good</td>\n",
       "    </tr>\n",
       "    <tr>\n",
       "      <th>192</th>\n",
       "      <td>0</td>\n",
       "      <td>0</td>\n",
       "      <td>1</td>\n",
       "      <td>0</td>\n",
       "      <td>1</td>\n",
       "      <td>0</td>\n",
       "      <td>1</td>\n",
       "      <td>1</td>\n",
       "      <td>0</td>\n",
       "      <td>54</td>\n",
       "      <td>2.333</td>\n",
       "      <td>good</td>\n",
       "    </tr>\n",
       "    <tr>\n",
       "      <th>66</th>\n",
       "      <td>1</td>\n",
       "      <td>0</td>\n",
       "      <td>0</td>\n",
       "      <td>0</td>\n",
       "      <td>1</td>\n",
       "      <td>0</td>\n",
       "      <td>1</td>\n",
       "      <td>1</td>\n",
       "      <td>0</td>\n",
       "      <td>37</td>\n",
       "      <td>4.333</td>\n",
       "      <td>bad</td>\n",
       "    </tr>\n",
       "    <tr>\n",
       "      <th>327</th>\n",
       "      <td>0</td>\n",
       "      <td>0</td>\n",
       "      <td>1</td>\n",
       "      <td>0</td>\n",
       "      <td>1</td>\n",
       "      <td>0</td>\n",
       "      <td>1</td>\n",
       "      <td>1</td>\n",
       "      <td>0</td>\n",
       "      <td>64</td>\n",
       "      <td>2.333</td>\n",
       "      <td>bad</td>\n",
       "    </tr>\n",
       "  </tbody>\n",
       "</table>\n",
       "</div>"
      ],
      "text/plain": [
       "     teaching  tenure track  tenured  minority  not minority  female  male  \\\n",
       "331         0             0        1         0             1       0     1   \n",
       "101         0             0        1         0             1       1     0   \n",
       "192         0             0        1         0             1       0     1   \n",
       "66          1             0        0         0             1       0     1   \n",
       "327         0             0        1         0             1       0     1   \n",
       "\n",
       "     english  non-english  age  bty_avg eval_categorical  \n",
       "331        1            0   64    2.333              bad  \n",
       "101        1            0   46    4.333             good  \n",
       "192        1            0   54    2.333             good  \n",
       "66         1            0   37    4.333              bad  \n",
       "327        1            0   64    2.333              bad  "
      ]
     },
     "execution_count": 126,
     "metadata": {},
     "output_type": "execute_result"
    }
   ],
   "source": [
    "num_data = pd.concat([ohe_rank, ohe_ethnicity, ohe_gender, ohe_language, data[[\"age\",\"bty_avg\",\"eval_categorical\"]]], axis=1, sort=False)\n",
    "num_data.head()"
   ]
  },
  {
   "cell_type": "markdown",
   "metadata": {},
   "source": [
    "Now all the data in num_data is numeric, and we can use the Euclidean distance to compute the distance between the records."
   ]
  },
  {
   "cell_type": "markdown",
   "metadata": {},
   "source": [
    "### Common scale\n",
    "You can see that the absolute values of different attributes are on different scales, and we better bring them all to the same interval between 0 and 1, since otherwise the difference in age will dominate an overall distance between two records.\n",
    "\n",
    "We transform numeric columns to a standard scale 0-1 using the following formula: x<sub>scaled</sub>=(x-min)/(max-min)"
   ]
  },
  {
   "cell_type": "code",
   "execution_count": 127,
   "metadata": {},
   "outputs": [],
   "source": [
    "# apply normalization techniques to column age \n",
    "column = 'age'\n",
    "num_data[column] = (num_data[column] - num_data[column].min()) / (num_data[column].max() - num_data[column].min())     "
   ]
  },
  {
   "cell_type": "code",
   "execution_count": 128,
   "metadata": {
    "scrolled": true
   },
   "outputs": [
    {
     "data": {
      "text/html": [
       "<div>\n",
       "<style scoped>\n",
       "    .dataframe tbody tr th:only-of-type {\n",
       "        vertical-align: middle;\n",
       "    }\n",
       "\n",
       "    .dataframe tbody tr th {\n",
       "        vertical-align: top;\n",
       "    }\n",
       "\n",
       "    .dataframe thead th {\n",
       "        text-align: right;\n",
       "    }\n",
       "</style>\n",
       "<table border=\"1\" class=\"dataframe\">\n",
       "  <thead>\n",
       "    <tr style=\"text-align: right;\">\n",
       "      <th></th>\n",
       "      <th>teaching</th>\n",
       "      <th>tenure track</th>\n",
       "      <th>tenured</th>\n",
       "      <th>minority</th>\n",
       "      <th>not minority</th>\n",
       "      <th>female</th>\n",
       "      <th>male</th>\n",
       "      <th>english</th>\n",
       "      <th>non-english</th>\n",
       "      <th>age</th>\n",
       "      <th>bty_avg</th>\n",
       "      <th>eval_categorical</th>\n",
       "    </tr>\n",
       "  </thead>\n",
       "  <tbody>\n",
       "    <tr>\n",
       "      <th>331</th>\n",
       "      <td>0</td>\n",
       "      <td>0</td>\n",
       "      <td>1</td>\n",
       "      <td>0</td>\n",
       "      <td>1</td>\n",
       "      <td>0</td>\n",
       "      <td>1</td>\n",
       "      <td>1</td>\n",
       "      <td>0</td>\n",
       "      <td>0.795455</td>\n",
       "      <td>0.102462</td>\n",
       "      <td>bad</td>\n",
       "    </tr>\n",
       "    <tr>\n",
       "      <th>101</th>\n",
       "      <td>0</td>\n",
       "      <td>0</td>\n",
       "      <td>1</td>\n",
       "      <td>0</td>\n",
       "      <td>1</td>\n",
       "      <td>1</td>\n",
       "      <td>0</td>\n",
       "      <td>1</td>\n",
       "      <td>0</td>\n",
       "      <td>0.386364</td>\n",
       "      <td>0.410154</td>\n",
       "      <td>good</td>\n",
       "    </tr>\n",
       "    <tr>\n",
       "      <th>192</th>\n",
       "      <td>0</td>\n",
       "      <td>0</td>\n",
       "      <td>1</td>\n",
       "      <td>0</td>\n",
       "      <td>1</td>\n",
       "      <td>0</td>\n",
       "      <td>1</td>\n",
       "      <td>1</td>\n",
       "      <td>0</td>\n",
       "      <td>0.568182</td>\n",
       "      <td>0.102462</td>\n",
       "      <td>good</td>\n",
       "    </tr>\n",
       "    <tr>\n",
       "      <th>66</th>\n",
       "      <td>1</td>\n",
       "      <td>0</td>\n",
       "      <td>0</td>\n",
       "      <td>0</td>\n",
       "      <td>1</td>\n",
       "      <td>0</td>\n",
       "      <td>1</td>\n",
       "      <td>1</td>\n",
       "      <td>0</td>\n",
       "      <td>0.181818</td>\n",
       "      <td>0.410154</td>\n",
       "      <td>bad</td>\n",
       "    </tr>\n",
       "    <tr>\n",
       "      <th>327</th>\n",
       "      <td>0</td>\n",
       "      <td>0</td>\n",
       "      <td>1</td>\n",
       "      <td>0</td>\n",
       "      <td>1</td>\n",
       "      <td>0</td>\n",
       "      <td>1</td>\n",
       "      <td>1</td>\n",
       "      <td>0</td>\n",
       "      <td>0.795455</td>\n",
       "      <td>0.102462</td>\n",
       "      <td>bad</td>\n",
       "    </tr>\n",
       "    <tr>\n",
       "      <th>...</th>\n",
       "      <td>...</td>\n",
       "      <td>...</td>\n",
       "      <td>...</td>\n",
       "      <td>...</td>\n",
       "      <td>...</td>\n",
       "      <td>...</td>\n",
       "      <td>...</td>\n",
       "      <td>...</td>\n",
       "      <td>...</td>\n",
       "      <td>...</td>\n",
       "      <td>...</td>\n",
       "      <td>...</td>\n",
       "    </tr>\n",
       "    <tr>\n",
       "      <th>255</th>\n",
       "      <td>0</td>\n",
       "      <td>0</td>\n",
       "      <td>1</td>\n",
       "      <td>0</td>\n",
       "      <td>1</td>\n",
       "      <td>0</td>\n",
       "      <td>1</td>\n",
       "      <td>1</td>\n",
       "      <td>0</td>\n",
       "      <td>0.522727</td>\n",
       "      <td>0.230769</td>\n",
       "      <td>good</td>\n",
       "    </tr>\n",
       "    <tr>\n",
       "      <th>72</th>\n",
       "      <td>0</td>\n",
       "      <td>0</td>\n",
       "      <td>1</td>\n",
       "      <td>0</td>\n",
       "      <td>1</td>\n",
       "      <td>0</td>\n",
       "      <td>1</td>\n",
       "      <td>1</td>\n",
       "      <td>0</td>\n",
       "      <td>0.295455</td>\n",
       "      <td>0.487077</td>\n",
       "      <td>good</td>\n",
       "    </tr>\n",
       "    <tr>\n",
       "      <th>396</th>\n",
       "      <td>1</td>\n",
       "      <td>0</td>\n",
       "      <td>0</td>\n",
       "      <td>0</td>\n",
       "      <td>1</td>\n",
       "      <td>0</td>\n",
       "      <td>1</td>\n",
       "      <td>1</td>\n",
       "      <td>0</td>\n",
       "      <td>0.363636</td>\n",
       "      <td>0.256308</td>\n",
       "      <td>good</td>\n",
       "    </tr>\n",
       "    <tr>\n",
       "      <th>235</th>\n",
       "      <td>0</td>\n",
       "      <td>0</td>\n",
       "      <td>1</td>\n",
       "      <td>0</td>\n",
       "      <td>1</td>\n",
       "      <td>0</td>\n",
       "      <td>1</td>\n",
       "      <td>1</td>\n",
       "      <td>0</td>\n",
       "      <td>0.727273</td>\n",
       "      <td>0.487077</td>\n",
       "      <td>good</td>\n",
       "    </tr>\n",
       "    <tr>\n",
       "      <th>37</th>\n",
       "      <td>0</td>\n",
       "      <td>0</td>\n",
       "      <td>1</td>\n",
       "      <td>0</td>\n",
       "      <td>1</td>\n",
       "      <td>1</td>\n",
       "      <td>0</td>\n",
       "      <td>1</td>\n",
       "      <td>0</td>\n",
       "      <td>0.500000</td>\n",
       "      <td>0.358923</td>\n",
       "      <td>good</td>\n",
       "    </tr>\n",
       "  </tbody>\n",
       "</table>\n",
       "<p>463 rows × 12 columns</p>\n",
       "</div>"
      ],
      "text/plain": [
       "     teaching  tenure track  tenured  minority  not minority  female  male  \\\n",
       "331         0             0        1         0             1       0     1   \n",
       "101         0             0        1         0             1       1     0   \n",
       "192         0             0        1         0             1       0     1   \n",
       "66          1             0        0         0             1       0     1   \n",
       "327         0             0        1         0             1       0     1   \n",
       "..        ...           ...      ...       ...           ...     ...   ...   \n",
       "255         0             0        1         0             1       0     1   \n",
       "72          0             0        1         0             1       0     1   \n",
       "396         1             0        0         0             1       0     1   \n",
       "235         0             0        1         0             1       0     1   \n",
       "37          0             0        1         0             1       1     0   \n",
       "\n",
       "     english  non-english       age   bty_avg eval_categorical  \n",
       "331        1            0  0.795455  0.102462              bad  \n",
       "101        1            0  0.386364  0.410154             good  \n",
       "192        1            0  0.568182  0.102462             good  \n",
       "66         1            0  0.181818  0.410154              bad  \n",
       "327        1            0  0.795455  0.102462              bad  \n",
       "..       ...          ...       ...       ...              ...  \n",
       "255        1            0  0.522727  0.230769             good  \n",
       "72         1            0  0.295455  0.487077             good  \n",
       "396        1            0  0.363636  0.256308             good  \n",
       "235        1            0  0.727273  0.487077             good  \n",
       "37         1            0  0.500000  0.358923             good  \n",
       "\n",
       "[463 rows x 12 columns]"
      ]
     },
     "metadata": {},
     "output_type": "display_data"
    }
   ],
   "source": [
    "# apply normalization techniques to column bty_avg \n",
    "column = 'bty_avg'\n",
    "num_data[column] = (num_data[column] - num_data[column].min()) / (num_data[column].max() - num_data[column].min())     \n",
    "  \n",
    "# view normalized data \n",
    "display(num_data) "
   ]
  },
  {
   "cell_type": "markdown",
   "metadata": {},
   "source": [
    "### Holdout for the numeric dataset\n",
    "Divide the dataset into training and testing sets in proportion of 2:1."
   ]
  },
  {
   "cell_type": "code",
   "execution_count": 129,
   "metadata": {},
   "outputs": [],
   "source": [
    "# Select ratio\n",
    "ratio = 0.66\n",
    " \n",
    "total_rows = num_data.shape[0]\n",
    "train_size = int(total_rows*ratio)\n",
    " \n",
    "# Split data into test and train\n",
    "num_data_train = num_data[0:train_size]\n",
    "num_data_test = num_data[train_size:]"
   ]
  },
  {
   "cell_type": "markdown",
   "metadata": {},
   "source": [
    "Now you have the input dataset for the k-NN classification."
   ]
  },
  {
   "cell_type": "markdown",
   "metadata": {},
   "source": [
    "<div style=\"background-color:blue;\">\n",
    "    <h3>Task 3. Implement the k-NN classifier</h3>    \n",
    "</div>"
   ]
  },
  {
   "cell_type": "markdown",
   "metadata": {},
   "source": [
    "Note that this is a \"lazy\" classifier and nothing can be precomputed. Both the training and the test sets are used only during classification."
   ]
  },
  {
   "cell_type": "markdown",
   "metadata": {},
   "source": [
    "The output of a classifier should be the list of classification results in form of a tuple (*classified*, *actual*), where *classified* is a class label obtained by our classification, and *actual* is the actual label of this record in the test set."
   ]
  },
  {
   "cell_type": "code",
   "execution_count": 130,
   "metadata": {},
   "outputs": [],
   "source": [
    "import math"
   ]
  },
  {
   "cell_type": "code",
   "execution_count": 131,
   "metadata": {},
   "outputs": [],
   "source": [
    "def knn_classify(train_set, test_set, knn):\n",
    "    results  = []\n",
    "    # TODO: your code here\n",
    "\n",
    "    # for each item of the test set:\n",
    "    for input_datapoint in test_set.iterrows():\n",
    "        neighbors_by_dist = []\n",
    "\n",
    "        # Find its 11 nearest neighbors among the training set\n",
    "        for curr_train_datapoint in train_set.iterrows():\n",
    "            distances = 0\n",
    "            # print(curr_train_datapoint[1][10]) YIELDS THE BTY_AVG COLUMN, THUS ITERATE \n",
    "\n",
    "            for i in range(0, 11):\n",
    "                distances += (input_datapoint[1][i] - curr_train_datapoint[1][i])**2\n",
    "                \n",
    "            \n",
    "            # find euclidean distance between input_datapoint and curr_train_datapoint\n",
    "            e_dist = math.sqrt(distances)\n",
    "\n",
    "            # form a tuple[2] wherein tuple[0] is e_dist and tuple[1] is the datapoint's label\n",
    "            curr_tup = (e_dist, curr_train_datapoint[1][11])\n",
    "\n",
    "            \n",
    "            neighbors_by_dist.append(curr_tup)\n",
    "\n",
    "        # sort neighbors_by_dist; the first 11 entries are the 11 nearest neighbors\n",
    "        neighbors_by_dist.sort()\n",
    "\n",
    "        eval_good_count = 0\n",
    "        eval_bad_count = 0\n",
    "        for i in range(knn):\n",
    "#             print(neighbors_by_dist[i][1])\n",
    "            \n",
    "            if (neighbors_by_dist[i][1] == 'bad'):\n",
    "                eval_bad_count += 1\n",
    "            if (neighbors_by_dist[i][1] == 'good'): \n",
    "                eval_good_count += 1\n",
    "                \n",
    "#         print(f\"Eval Good Count: {eval_good_count}; Eval Bad Count: {eval_bad_count}\")\n",
    "\n",
    "        if eval_good_count < eval_bad_count:\n",
    "            classification = 'bad'\n",
    "        else:\n",
    "            classification = 'good'\n",
    "        \n",
    "        actual = input_datapoint[1]['eval_categorical']\n",
    "        # Form a tuple[2] where the first item is the classification and the second item is the actual label given\n",
    "        curr_output = (classification, actual)\n",
    "        # Add that tuple to the list\n",
    "        results.append(curr_output)\n",
    "        \n",
    "    return results"
   ]
  },
  {
   "cell_type": "markdown",
   "metadata": {},
   "source": [
    "<div style=\"background-color:blue;\">\n",
    "    <h3>Task 4. Generate the confidence interval for the k-NN accuracy </h3>    \n",
    "</div>\n",
    "This is based on the holdout estimation. \n",
    "Run your classifier, obtain the accuracy of the sample, and then produce a confidence interval. You can write the code, or use the tables manually."
   ]
  },
  {
   "cell_type": "code",
   "execution_count": 135,
   "metadata": {},
   "outputs": [
    {
     "name": "stdout",
     "output_type": "stream",
     "text": [
      "0.5569620253164557\n"
     ]
    }
   ],
   "source": [
    "class_results = knn_classify(num_data_train, num_data_test, 11)\n",
    "# print(class_results[:5])\n",
    "\n",
    "# TODO: classify and compute accuracy\n",
    "knn_correct_count = 0\n",
    "for i in class_results:\n",
    "    if i[0] == i[1]:\n",
    "        knn_correct_count += 1\n",
    "# print(f\"correct count: {knn_correct_count}; total: {len(class_results)}\")\n",
    "accuracy = knn_correct_count / len(class_results)\n",
    "print(accuracy)"
   ]
  },
  {
   "cell_type": "markdown",
   "metadata": {},
   "source": [
    "Our accuracy was: 0.5569620253164557\n",
    "\n",
    "**Your answer**: The confidence interval for the performance of the k-NN classifier is:"
   ]
  },
  {
   "cell_type": "markdown",
   "metadata": {},
   "source": [
    "**Work**: \n",
    "\n",
    "We are again using a 90% confidence interval of the form\n",
    "\n",
    "$$ CI = sample\\ statistic \\pm critical\\ value * SE $$\n",
    "\n",
    "Our sample statistic is **0.5569** for the classifier's performance on the test set, which had 158 data points like before. Given that the test set's size is greater than 30, we will be using a normal (as opposed to t) distribution. For a 90% confidence interval on the normal distribution, the critical value is &plusmn;1.65. Lastly, since the classifier's outcome is binary yes/no, we will **approximate** its accuracy by **assuming** said accuracy follows a binomial distribution. ***TA Joey said this is acceptable.*** The standard error of that binomial distribution is \n",
    " \n",
    " $$\\sqrt{\\frac{\\hat{p}(1-\\hat{p})}{n}} = .0395 $$\n",
    "\n",
    "\n",
    "which all evaluates to \n",
    "\n",
    "$$ .5696 \\pm (1.65 * .0395) $$\n",
    "\n",
    "\n",
    "**Answer**: \n",
    "\n",
    "The confidence interval for the performance of the KNN classifier is:\n",
    "\n",
    "$$[.5044, .6348]$$"
   ]
  },
  {
   "cell_type": "markdown",
   "metadata": {},
   "source": [
    "<div style=\"background-color:blue;\">\n",
    "    <h3>Task 5. Perform the 10-fold cross-validation with k-NN</h3>    \n",
    "</div>\n"
   ]
  },
  {
   "cell_type": "markdown",
   "metadata": {},
   "source": [
    "Generate 10 equal non-overlapping subsets of numeric data from the numeric dataset and store them in the list of pandas data frames called *num_folds*:"
   ]
  },
  {
   "cell_type": "code",
   "execution_count": 150,
   "metadata": {},
   "outputs": [
    {
     "name": "stdout",
     "output_type": "stream",
     "text": [
      "Fold 0 size: 46\n",
      "Fold 1 size: 46\n",
      "Fold 2 size: 46\n",
      "Fold 3 size: 46\n",
      "Fold 4 size: 46\n",
      "Fold 5 size: 46\n",
      "Fold 6 size: 46\n",
      "Fold 7 size: 46\n",
      "Fold 8 size: 46\n",
      "Fold 9 size: 46\n"
     ]
    }
   ],
   "source": [
    "k = 10  # k here is the number of folds\n",
    "num_folds = []\n",
    "\n",
    "#TODO numeric folds\n",
    "for i in row_bounds:\n",
    "    start_idx = i[0]\n",
    "    end_idx = i[1]\n",
    "    fold = num_data.iloc[start_idx:end_idx]\n",
    "    num_folds.append(fold)\n",
    "\n",
    "for i in range(k):\n",
    "    print(\"Fold\", i, \"size:\", num_folds[i].shape[0])"
   ]
  },
  {
   "cell_type": "markdown",
   "metadata": {},
   "source": [
    "Implement the loop to perform 10-fold cross-validation. Store the classification results in the list *knn_accuracies* for future use."
   ]
  },
  {
   "cell_type": "code",
   "execution_count": 156,
   "metadata": {},
   "outputs": [
    {
     "name": "stdout",
     "output_type": "stream",
     "text": [
      "[0.6304347826086957, 0.6956521739130435, 0.5, 0.6304347826086957, 0.6086956521739131, 0.6304347826086957, 0.717391304347826, 0.6521739130434783, 0.6956521739130435, 0.6739130434782609]\n"
     ]
    }
   ],
   "source": [
    "knn = 11 # knn here is the number of nearest neighbors\n",
    "knn_accuracies = []\n",
    "# TODO: your code here\n",
    "\n",
    "# I have slices of each fold's start and end in row_bounds. Instead of merging all items in folds besides the test set's index and training the classifier on those, \n",
    "# I'm going to instead just make a new df with the start and end bounds of each test set *set subtracted* from it via my list of the bounds of the *test set*; \n",
    "# i'm going to train on the entire data on that entire test set-less dataset and then test on the test set\n",
    "\n",
    "for tup in row_bounds:\n",
    "    knn_test_low_bound = tup[0]\n",
    "    knn_test_high_bound = tup[1]\n",
    "\n",
    "    knn_test_set = num_data.iloc[knn_test_low_bound:knn_test_high_bound]\n",
    "    knn_training_set = num_data.drop(num_data.index[knn_test_low_bound:knn_test_high_bound])\n",
    "\n",
    "    knn_trial_results = knn_classify(knn_training_set, knn_test_set, 11)\n",
    "    \n",
    "    knn_trial_correct_count = 0\n",
    "    for r in knn_trial_results:\n",
    "        if r[0] == r[1]:\n",
    "            knn_trial_correct_count += 1\n",
    "    \n",
    "    knn_trial_accuracy = knn_trial_correct_count / len(knn_trial_results)\n",
    "    knn_accuracies.append(knn_trial_accuracy)\n",
    "        \n",
    "\n",
    "print (knn_accuracies)"
   ]
  },
  {
   "cell_type": "markdown",
   "metadata": {},
   "source": [
    "Our results were:\n",
    "0.6304347826086957, 0.717391304347826, 0.5, 0.6304347826086957, 0.5869565217391305, 0.6304347826086957, \n",
    "0.717391304347826, 0.6521739130434783, 0.6956521739130435, 0.6739130434782609"
   ]
  },
  {
   "cell_type": "markdown",
   "metadata": {},
   "source": [
    "<div style=\"background-color:blue;\">\n",
    "    <h3>Task 6. Compare performance of two classifiers</h3>    \n",
    "</div>"
   ]
  },
  {
   "cell_type": "markdown",
   "metadata": {},
   "source": [
    "Based on the paired results stored in lists *nb_accuracies* and *knn_accuracies*, test the hypothesis that the two classifiers do not have the same performance at a significance level 0.05. Recall that we need to use the t-ditribution for the mean of differences. Again, you can either implement the computation or use the tables manually.\n",
    "\n",
    "**If you are not writing the code, please clearly explain all the steps of your computation**."
   ]
  },
  {
   "cell_type": "markdown",
   "metadata": {},
   "source": [
    "Let $\\mu_d$ be the mean difference in performance between our KNN and our NB classifiers implemented above. We state our null hypothesis to be $$H_0: \\mu_d = 0$$ and our alternative hypothesis to be $$H_A: \\mu_d \\neq 0$$\n",
    "\n",
    "The raw accuracies for the 10-fold cross-validations for the Naive Bayes classifier and the KNN classifier are, respectively, as follows (for convenience):"
   ]
  },
  {
   "cell_type": "code",
   "execution_count": 158,
   "metadata": {},
   "outputs": [
    {
     "name": "stdout",
     "output_type": "stream",
     "text": [
      "Naive Bayes Accuracies:\n",
      "[0.5652173913043478, 0.4782608695652174, 0.5217391304347826, 0.5652173913043478, 0.5217391304347826, 0.6956521739130435, 0.5434782608695652, 0.6086956521739131, 0.5434782608695652, 0.5]\n",
      "KNN accuracies:\n",
      "[0.6304347826086957, 0.6956521739130435, 0.5, 0.6304347826086957, 0.6086956521739131, 0.6304347826086957, 0.717391304347826, 0.6521739130434783, 0.6956521739130435, 0.6739130434782609]\n"
     ]
    }
   ],
   "source": [
    "print(f\"Naive Bayes Accuracies:\\n{nb_accuracies}\")\n",
    "print(f\"KNN accuracies:\\n{knn_accuracies}\")"
   ]
  },
  {
   "cell_type": "markdown",
   "metadata": {},
   "source": [
    "The differences for each trials are as follows:"
   ]
  },
  {
   "cell_type": "code",
   "execution_count": 162,
   "metadata": {},
   "outputs": [
    {
     "name": "stdout",
     "output_type": "stream",
     "text": [
      "[-0.0652173913043479, -0.21739130434782605, 0.021739130434782594, -0.0652173913043479, -0.08695652173913049, 0.06521739130434778, -0.17391304347826086, -0.04347826086956519, -0.15217391304347827, -0.17391304347826086]\n"
     ]
    }
   ],
   "source": [
    "cv_differences = []\n",
    "for i in range(10):\n",
    "    out = nb_accuracies[i] - knn_accuracies[i]\n",
    "    cv_differences.append(out)\n",
    "print(cv_differences)"
   ]
  },
  {
   "cell_type": "markdown",
   "metadata": {},
   "source": [
    "The (arithmetic) mean and variance (calculated with the Python statistics package, using arithmetic mean and sample variance) of differences is:"
   ]
  },
  {
   "cell_type": "code",
   "execution_count": 170,
   "metadata": {},
   "outputs": [
    {
     "name": "stdout",
     "output_type": "stream",
     "text": [
      "Mean of differences: -0.08913043478260871\n",
      "Variance of differences: 0.008238815374921231\n"
     ]
    }
   ],
   "source": [
    "from statistics import mean, variance\n",
    "\n",
    "print(f\"Mean of differences: {mean(cv_differences)}\")\n",
    "print(f\"Variance of differences: {variance(cv_differences)}\")"
   ]
  },
  {
   "cell_type": "markdown",
   "metadata": {},
   "source": [
    "Now, we conduct a t-test on our null hypothesis. With significance level $\\alpha = 0.05$ and $n - 2 = 8$ degrees of freedom, our t-value is \n",
    "\n",
    "$$t = 2.306$$\n",
    "\n",
    "Now, we construct an interval for our null hypothesis:\n",
    "\n",
    "$$\\mu_d = 0\\ \\pm 2.306 \\frac{.008239}{\\sqrt{10}}$$\n",
    "\n",
    "and find our rejection regions to be outside of the interval\n",
    "\n",
    "$$[-0.06008, 0.06008]$$\n",
    "\n",
    "Now, given that our mean of differences was -0.0891, we have sufficient evidence to reject the null hypothesis.\n",
    "\n",
    "Given that we calculated the differences with $$NB\\ accuracies - KNN\\ accuracies$$ \n",
    "\n",
    "we have found the KNN classifier to have a higher accuracy with statistical significance in this dataset.  "
   ]
  },
  {
   "cell_type": "markdown",
   "metadata": {},
   "source": [
    "<div style=\"background-color:blue;\">\n",
    "    <h3>Task 7. Use the best classifier</h3>    \n",
    "</div>\n",
    "Which classifier is significantly better? \n",
    "\n",
    "Use it to predict the evaluation results for instructors that you know.\n",
    "Now you can use the entire dataset as a training set.\n",
    "\n",
    "Did the predicted class labels correspond to your own evaluations? \n",
    "\n",
    "Discuss all these questions and add any notes about this lab in a separate cell below."
   ]
  },
  {
   "cell_type": "markdown",
   "metadata": {},
   "source": [
    "We found the KNN classifier to be significantly better. We demonstrate it a few times as follows:"
   ]
  },
  {
   "cell_type": "code",
   "execution_count": 190,
   "metadata": {},
   "outputs": [
    {
     "name": "stdout",
     "output_type": "stream",
     "text": [
      "Trial 1 results: Classification: bad; Actual: bad\n",
      "Trial 2 results: Classification: bad; Actual: good\n",
      "Trial 3 results: Classification: bad; Actual: bad\n"
     ]
    }
   ],
   "source": [
    "# try KNN for entry 22\n",
    "trial_1_train = num_data.drop(num_data.index[22:23])\n",
    "trial_1_test = num_data.iloc[22:23]\n",
    "trial_1_result = knn_classify(trial_1_train, trial_1_test, 11)\n",
    "print(f\"Trial 1 results: Classification: {trial_1_result[0][0]}; Actual: {trial_1_result[0][1]}\")\n",
    "\n",
    "# try KNN for entry 40\n",
    "trial_2_train = num_data.drop(num_data.index[40:41])\n",
    "trial_2_test = num_data.iloc[40:41]\n",
    "trial_2_result = knn_classify(trial_2_train, trial_2_test, 11)\n",
    "print(f\"Trial 2 results: Classification: {trial_2_result[0][0]}; Actual: {trial_2_result[0][1]}\")\n",
    "\n",
    "# try KNN for entry 295\n",
    "trial_3_train = num_data.drop(num_data.index[295:296])\n",
    "trial_3_test = num_data.iloc[295:296]\n",
    "trial_3_result = knn_classify(trial_3_train, trial_3_test, 11)\n",
    "print(f\"Trial 3 results: Classification: {trial_3_result[0][0]}; Actual: {trial_3_result[0][1]}\")"
   ]
  },
  {
   "cell_type": "markdown",
   "metadata": {},
   "source": [
    "I found this lab to be both fun and rewarding. I found the statistics behind these algorithms to be intuitive but the implementation in Python to be troublesome, as most of the Pitt SCI undergraduate curriculum is in Java; Python has simpler syntax but I am not as used to it."
   ]
  },
  {
   "cell_type": "markdown",
   "metadata": {},
   "source": [
    "#### This is the end of the Skill lab 3. \n",
    "\n",
    "Copyright &copy; 2024 Marina Barsky."
   ]
  }
 ],
 "metadata": {
  "kernelspec": {
   "display_name": "Python 3",
   "language": "python",
   "name": "python3"
  },
  "language_info": {
   "codemirror_mode": {
    "name": "ipython",
    "version": 3
   },
   "file_extension": ".py",
   "mimetype": "text/x-python",
   "name": "python",
   "nbconvert_exporter": "python",
   "pygments_lexer": "ipython3",
   "version": "3.8.3"
  }
 },
 "nbformat": 4,
 "nbformat_minor": 5
}
